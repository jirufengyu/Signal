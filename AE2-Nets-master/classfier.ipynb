import h5py
import os
import scipy.io
import pandas as pd
import matplotlib.pyplot as plt
from sklearn.manifold import TSNE
import numpy as np
data_path="/home/stu2/Signal-1/AE2-Nets-master/H.mat"

dataset = scipy.io.loadmat(data_path)
H,gt=dataset['H'],dataset['gt']
print(H)
print(gt)
gt=gt[0]