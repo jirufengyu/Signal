{
 "metadata": {
  "language_info": {
   "codemirror_mode": {
    "name": "ipython",
    "version": 3
   },
   "file_extension": ".py",
   "mimetype": "text/x-python",
   "name": "python",
   "nbconvert_exporter": "python",
   "pygments_lexer": "ipython3",
   "version": 3
  },
  "orig_nbformat": 2
 },
 "nbformat": 4,
 "nbformat_minor": 2,
 "cells": [
  {
   "cell_type": "code",
   "execution_count": null,
   "metadata": {},
   "outputs": [],
   "source": [
    "import tensorflow.kears as kears\n",
    "import numpy as np\n",
    "mnist = keras.datasets.mnist\n",
    "\n",
    "(train_images, train_labels), (test_images, test_labels) = mnist.load_data()\n",
    "\n",
    "#print(train_images[0])\n",
    "#取前一千条\n",
    "train_labels=train_labels[:10000]\n",
    "train_images=train_images[:10000]\n",
    "train_images=train_images.reshape(-1,784)\n",
    "train_images=train_images/255.0\n",
    "meandata=np.mean(train_images,axis=0)\n",
    "data="
   ]
  }
 ]
}